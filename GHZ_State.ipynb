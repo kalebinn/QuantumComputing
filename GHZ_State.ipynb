{
 "cells": [
  {
   "cell_type": "code",
   "execution_count": 1,
   "metadata": {},
   "outputs": [],
   "source": [
    "from qiskit import *"
   ]
  },
  {
   "cell_type": "code",
   "execution_count": 2,
   "metadata": {},
   "outputs": [],
   "source": [
    "# create a quantum register of 3 qubits:\n",
    "q = QuantumRegister(3,'q')\n",
    "\n",
    "# initialize the quantum circuit:\n",
    "qcirc = QuantumCircuit(q)"
   ]
  },
  {
   "cell_type": "markdown",
   "metadata": {},
   "source": [
    "In order to put the subsystem into GHZ (Greenberge-Horne-Zeilinger) state, that is:\n",
    "![general GHZ state](https://wikimedia.org/api/rest_v1/media/math/render/svg/d396f4ad038ed292bd3005c82e0e841ec1430be7)\n",
    "There are three steps"
   ]
  },
  {
   "cell_type": "markdown",
   "metadata": {},
   "source": []
  },
  {
   "cell_type": "code",
   "execution_count": 3,
   "metadata": {},
   "outputs": [
    {
     "data": {
      "text/plain": [
       "<qiskit.extensions.standard.cx.CnotGate at 0x1f396819be0>"
      ]
     },
     "execution_count": 3,
     "metadata": {},
     "output_type": "execute_result"
    }
   ],
   "source": [
    "qcirc.h(q[0]) # apply the Hadamard gate (H-gate) to q[0], this puts the qubit into super position\n",
    "qcirc.cx(q[0],q[1]) # (Bell state) apply the pauli-x (cNOT gate) to q0 (contol) and q1 (target)\n",
    "qcirc.cx(q[0],q[2]) # (GHZ state) apply the pauli-x (cNOT gate) to q0 (control) and q2(target)"
   ]
  },
  {
   "cell_type": "markdown",
   "metadata": {},
   "source": [
    "This is the simplest 3-qubit GHZ state, that is:\n",
    "![3-qubit GHZ](https://wikimedia.org/api/rest_v1/media/math/render/svg/806963b685467e9f5252c8199a6946394a43f460)"
   ]
  },
  {
   "cell_type": "code",
   "execution_count": 4,
   "metadata": {},
   "outputs": [
    {
     "data": {
      "text/html": [
       "<pre style=\"word-wrap: normal;white-space: pre;line-height: 15px;\">        ┌───┐          \n",
       "q_0: |0>┤ H ├──■────■──\n",
       "        └───┘┌─┴─┐  │  \n",
       "q_1: |0>─────┤ X ├──┼──\n",
       "             └───┘┌─┴─┐\n",
       "q_2: |0>──────────┤ X ├\n",
       "                  └───┘</pre>"
      ],
      "text/plain": [
       "<qiskit.visualization.text.TextDrawing at 0x1f396819eb8>"
      ]
     },
     "execution_count": 4,
     "metadata": {},
     "output_type": "execute_result"
    }
   ],
   "source": [
    "# to draw the quantum circuit for visualization\n",
    "qcirc.draw()"
   ]
  }
 ],
 "metadata": {
  "kernelspec": {
   "display_name": "Python 3",
   "language": "python",
   "name": "python3"
  },
  "language_info": {
   "codemirror_mode": {
    "name": "ipython",
    "version": 3
   },
   "file_extension": ".py",
   "mimetype": "text/x-python",
   "name": "python",
   "nbconvert_exporter": "python",
   "pygments_lexer": "ipython3",
   "version": "3.7.3"
  }
 },
 "nbformat": 4,
 "nbformat_minor": 2
}
