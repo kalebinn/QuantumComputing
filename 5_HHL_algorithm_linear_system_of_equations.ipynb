{
 "cells": [
  {
   "cell_type": "markdown",
   "metadata": {},
   "source": [
    "# Using Qiskit to solve a linear system of equations\n",
    "**Note: This goes with the handwritten notes found in: Handwritten_notes/5_QHHL_Algorithm_for_Linear_systems.pdf.   \n",
    "Please refer to that for clarification.**  \n",
    "This notebook applies the HHL quantum algorithm (Harrow-Hassidim-Lloyd) to solve a system of linear equations using qiskit-aqua."
   ]
  },
  {
   "cell_type": "code",
   "execution_count": 8,
   "metadata": {},
   "outputs": [],
   "source": [
    "import warnings\n",
    "warnings.filterwarnings('ignore') # ignore depreciation warnings \n",
    "\n",
    "from qiskit.aqua import run_algorithm\n",
    "from qiskit.aqua.input import LinearSystemInput\n",
    "from qiskit.quantum_info import state_fidelity\n",
    "from qiskit.aqua.algorithms.classical import ExactLSsolver\n",
    "import numpy as np"
   ]
  },
  {
   "cell_type": "code",
   "execution_count": 2,
   "metadata": {},
   "outputs": [],
   "source": [
    "# set the initial parameters:\n",
    "base_parameters = {\n",
    "    'problem' :\n",
    "    {\n",
    "        'name': 'linear_system'\n",
    "    },\n",
    "    'algorithm':\n",
    "    {\n",
    "        'name': 'HHL'\n",
    "    },\n",
    "    'eigs':\n",
    "    {\n",
    "        'expansion_mode' : 'suzuki',\n",
    "        'expansion_order': 2,\n",
    "        'name': 'EigsQPE',\n",
    "        'num_ancillae' : 3,\n",
    "        'num_time_slices': 50\n",
    "    },\n",
    "    'reciprocal':\n",
    "    {\n",
    "        'name' : 'Lookup'\n",
    "    },\n",
    "    'backend':\n",
    "    {\n",
    "        'provider' : 'qiskit.BasicAer',\n",
    "        'name' : 'statevector_simulator'\n",
    "    }\n",
    "}"
   ]
  },
  {
   "cell_type": "code",
   "execution_count": 3,
   "metadata": {},
   "outputs": [],
   "source": [
    "# function to calculate and print fidelity\n",
    "def fidelity(hhl,ref):\n",
    "    # normalized HHL and reference solutions\n",
    "    solution_hhl_normed = hhl/np.linalg.norm(hhl)\n",
    "    solution_ref_normed = ref/np.linalg.norm(ref)\n",
    "    fidelity = state_fidelity(solution_hhl_normed, solution_ref_normed )\n",
    "    print(f\"Fidelity = {fidelity}\") # using python 3.6+"
   ]
  },
  {
   "cell_type": "markdown",
   "metadata": {},
   "source": [
    "## Example 1 - Diagonal Matrix:\n",
    "Input matrix:  \n",
    "![A-matrix](https://render.githubusercontent.com/render/math?math=A%3D%0A%5Cbegin%7Bbmatrix%7D%0A1%20%26amp%3B%200%20%5C%5C%0A0%20%26amp%3B%202%0A%5Cend%7Bbmatrix%7D&mode=display)  \n",
    "unit vector:  \n",
    "\n",
    "![b-vector](https://render.githubusercontent.com/render/math?math=%5Cvec%7Bb%7D%3D%20%5Cleft%28%20%5Cbegin%7Barray%7D%7Bc%7D1%20%5C%5C%204%20%20%5Cend%7Barray%7D%20%5Cright%29&mode=display)  \n",
    "\n",
    "**Note:** the result dictionary contains several return values. the HHL solution for![x](https://render.githubusercontent.com/render/math?math=%5Cvec%7Bx%7D&mode=inline)is accessible by the key `'solution'`. \n",
    "The classical solution of the linear system of equations is calculated using standard linear algebra functions in numpy. The fidelity between the HHl solution and classical solution is also given in the output. The probability with which HHL is running successfully is also given. (As written in the notes, it is successful when the HHL ancillary qubit is |1>)."
   ]
  },
  {
   "cell_type": "code",
   "execution_count": 5,
   "metadata": {},
   "outputs": [],
   "source": [
    "A_matrix = [[1, 0],[0, 2]]\n",
    "b_vector = [1,4]\n",
    "base_parameters['input'] = {\n",
    "    'name' : 'LinearSystemInput',\n",
    "    'matrix' : A_matrix,\n",
    "    'vector' : b_vector,\n",
    "}"
   ]
  },
  {
   "cell_type": "code",
   "execution_count": 9,
   "metadata": {},
   "outputs": [],
   "source": [
    "HHL_result = run_algorithm(base_parameters) # returns the result dictionary discussed above\n",
    "ref_result = ExactLSsolver(A_matrix,b_vector).run() # returns classical solution from numpy"
   ]
  },
  {
   "cell_type": "code",
   "execution_count": 10,
   "metadata": {},
   "outputs": [
    {
     "name": "stdout",
     "output_type": "stream",
     "text": [
      "HHL quantum Algorithm solution = [1.05859+0.j 1.99245+0.j]\n",
      "Classical Linear System solution = [1. 2.]\n",
      "\n",
      "Probability = 0.024629684664842826\n",
      "Fidelity = 0.9993887568912113\n"
     ]
    }
   ],
   "source": [
    "# now we can print out results and compare it to what we get from classical means.\n",
    "HHL_solution = np.round(HHL_result['solution'], 5)\n",
    "ref_solution = np.round(ref_result['solution'], 5)\n",
    "\n",
    "print(f\"HHL quantum Algorithm solution = {HHL_solution}\")\n",
    "print(f\"Classical Linear System solution = {ref_solution}\\n\")\n",
    "print(f\"Probability = {HHL_result['probability_result']}\")\n",
    "fidelity(HHL_solution, ref_solution)   "
   ]
  },
  {
   "cell_type": "code",
   "execution_count": 11,
   "metadata": {},
   "outputs": [
    {
     "name": "stdout",
     "output_type": "stream",
     "text": [
      "HHL quantum Algorithm solution = [0.84664+0.j 2.01762+0.j]\n",
      "Classical Linear System solution = [1. 2.]\n",
      "\n",
      "Probability = 0.36143730037074434\n",
      "Fidelity = 0.9956054532236346\n"
     ]
    }
   ],
   "source": [
    "# scale the probability, and check for changes \n",
    "mod_parameters = base_parameters # modified paramters\n",
    "mod_parameters['reciprocal'] = {\n",
    "    'scale' : 0.5\n",
    "}\n",
    "\n",
    "HHL_result = run_algorithm(mod_parameters)\n",
    "ref_result = ExactLSsolver(A_matrix, b_vector).run()\n",
    "\n",
    "HHL_solution = np.round(HHL_result['solution'], 5)\n",
    "ref_solution = np.round(ref_result['solution'], 5)\n",
    "\n",
    "print(f\"HHL quantum Algorithm solution = {HHL_solution}\")\n",
    "print(f\"Classical Linear System solution = {ref_solution}\\n\")\n",
    "print(f\"Probability = {HHL_result['probability_result']}\")\n",
    "fidelity(HHL_solution, ref_solution)   "
   ]
  },
  {
   "cell_type": "code",
   "execution_count": 13,
   "metadata": {},
   "outputs": [
    {
     "name": "stdout",
     "output_type": "stream",
     "text": [
      "circuit width = 7\n",
      "circuit_depth = 12256\n"
     ]
    }
   ],
   "source": [
    "# investigating the quantum circuit features\n",
    "# circuit width (how many qubits are required)\n",
    "print(f\"circuit width = {HHL_result['circuit_info']['width']}\")\n",
    "# circuit depth (maximum number of gates applied to one qubit)\n",
    "print(f\"circuit_depth = {HHL_result['circuit_info']['depth']}\")"
   ]
  },
  {
   "cell_type": "markdown",
   "metadata": {},
   "source": [
    "## Example 2 - Non-Diagonal Matrix:\n",
    "Matrix:  \n",
    "![A-matrix](https://render.githubusercontent.com/render/math?math=A%3D%0A%5Cbegin%7Bbmatrix%7D%0A1%20%26amp%3B%203%20%5C%5C%0A3%20%26amp%3B%202%0A%5Cend%7Bbmatrix%7D&mode=display)  \n",
    "Unit Vector:\n",
    "![b-vector](https://render.githubusercontent.com/render/math?math=%5Cvec%7Bb%7D%3D%20%5Cleft%28%20%5Cbegin%7Barray%7D%7Bc%7D1%20%5C%5C%201%20%20%5Cend%7Barray%7D%20%5Cright%29&mode=display)  \n"
   ]
  },
  {
   "cell_type": "code",
   "execution_count": 20,
   "metadata": {},
   "outputs": [],
   "source": [
    "A_matrix = [[1,3],[3,2]]\n",
    "b_vector = [1,1]\n",
    "\n",
    "# declare the parameters\n",
    "ex2_parameters = base_parameters\n",
    "ex2_parameters['input'] = {\n",
    "    'name' : 'LinearSystemInput',\n",
    "    'matrix' : A_matrix,\n",
    "    'vector' : b_vector\n",
    "}\n",
    "ex2_parameters['reciprocal'] = {\n",
    "    'negative_evals' : True\n",
    "}\n",
    "ex2_parameters['eigs'] = {\n",
    "    'negative_evals' : True\n",
    "}"
   ]
  },
  {
   "cell_type": "code",
   "execution_count": 22,
   "metadata": {},
   "outputs": [
    {
     "name": "stdout",
     "output_type": "stream",
     "text": [
      "(ex2) HHL quantum Algorithm solution = [0.14223-5.e-05j 0.28622+7.e-05j]\n",
      "(ex2) Classical Linear System solution = [0.14286 0.28571]\n",
      "\n",
      "(ex2) Probability = 0.00031603500306951664\n",
      "Fidelity = 0.9999938095340438\n"
     ]
    }
   ],
   "source": [
    "HHL_result = run_algorithm(ex2_parameters)\n",
    "ref_result = ExactLSsolver(A_matrix, b_vector).run()\n",
    "\n",
    "HHL_solution = np.round(HHL_result['solution'], 5)\n",
    "ref_solution = np.round(ref_result['solution'], 5)\n",
    "\n",
    "print(f\"(ex2) HHL quantum Algorithm solution = {HHL_solution}\")\n",
    "print(f\"(ex2) Classical Linear System solution = {ref_solution}\\n\")\n",
    "print(f\"(ex2) Probability = {HHL_result['probability_result']}\")\n",
    "fidelity(HHL_solution, ref_solution)"
   ]
  },
  {
   "cell_type": "code",
   "execution_count": 25,
   "metadata": {},
   "outputs": [
    {
     "name": "stdout",
     "output_type": "stream",
     "text": [
      "circuit width = 11\n",
      "circuit depth = 73313\n"
     ]
    }
   ],
   "source": [
    "# note that the circuit depth is increased by 6 times compared to the first example.\n",
    "print(f\"circuit width = {HHL_result['circuit_info']['width']}\")\n",
    "print(f\"circuit depth = {HHL_result['circuit_info']['depth']}\")"
   ]
  },
  {
   "cell_type": "markdown",
   "metadata": {},
   "source": [
    "##  Example 3 - 8x8 Non-Diagonal Matrix:\n",
    "Matrix:  \n",
    "![A-matrix](https://render.githubusercontent.com/render/math?math=A%3D%0A%5Cbegin%7Bbmatrix%7D%0A4%20%26amp%3B%200%20%26amp%3B%200%20%26amp%3B%200%20%26amp%3B%200%20%26amp%3B%200%20%26amp%3B%200%20%26amp%3B%201%20%5C%5C%0A0%20%26amp%3B%203%20%26amp%3B%200%20%26amp%3B%200%20%26amp%3B%200%20%26amp%3B%200%20%26amp%3B%200%20%26amp%3B%200%20%5C%5C%0A0%20%26amp%3B%200%20%26amp%3B%208%20%26amp%3B%200%20%26amp%3B%200%20%26amp%3B%200%20%26amp%3B%200%20%26amp%3B%200%20%5C%5C%0A0%20%26amp%3B%200%20%26amp%3B%200%20%26amp%3B%205%20%26amp%3B%200%20%26amp%3B%200%20%26amp%3B%200%20%26amp%3B%200%20%5C%5C%0A0%20%26amp%3B%200%20%26amp%3B%200%20%26amp%3B%200%20%26amp%3B%202%20%26amp%3B%201%20%26amp%3B%200%20%26amp%3B%200%20%5C%5C%0A0%20%26amp%3B%200%20%26amp%3B%200%20%26amp%3B%200%20%26amp%3B%201%20%26amp%3B%201%20%26amp%3B%200%20%26amp%3B%200%20%5C%5C%0A0%20%26amp%3B%200%20%26amp%3B%200%20%26amp%3B%200%20%26amp%3B%200%20%26amp%3B%200%20%26amp%3B%201%20%26amp%3B%200%20%5C%5C%0A1%20%26amp%3B%200%20%26amp%3B%200%20%26amp%3B%200%20%26amp%3B%200%20%26amp%3B%200%20%26amp%3B%200%20%26amp%3B%205%0A%5Cend%7Bbmatrix%7D&mode=display)  \n",
    "Unit vector:\n",
    "![b-vector](https://render.githubusercontent.com/render/math?math=%5Cvec%7Bb%7D%3D%20%5Cleft%28%20%5Cbegin%7Barray%7D%7Bc%7D1%20%5C%5C%200%20%5C%5C%200%20%5C%5C%200%20%5C%5C%200%20%5C%5C%200%20%5C%5C%200%20%5C%5C%201%20%5Cend%7Barray%7D%20%5Cright%29&mode=display)"
   ]
  },
  {
   "cell_type": "code",
   "execution_count": 27,
   "metadata": {},
   "outputs": [],
   "source": [
    "A_matrix = [[4, 0, 0, 0, 0, 0, 0, 1],\n",
    "          [0, 3, 0, 0, 0, 0, 0, 0],\n",
    "          [0, 0, 8, 0, 0, 0, 0, 0],\n",
    "          [0, 0, 0, 5, 0, 0, 0, 0],\n",
    "          [0, 0, 0, 0, 2, 1, 0, 0],\n",
    "          [0, 0, 0, 0, 1, 1, 0, 0],\n",
    "          [0, 0, 0, 0, 0, 0, 1, 0],\n",
    "          [1, 0, 0, 0, 0, 0, 0, 5]]\n",
    "b_vector = [1, 0, 0, 0, 0, 0, 0, 1]\n",
    "ex3_parameters = base_parameters\n",
    "ex3_parameters['input'] = {\n",
    "    'name': 'LinearSystemInput',\n",
    "    'matrix': A_matrix,\n",
    "    'vector': b_vector\n",
    "}"
   ]
  },
  {
   "cell_type": "code",
   "execution_count": 31,
   "metadata": {},
   "outputs": [],
   "source": [
    "#HHL_result = run_algorithm(ex3_parameters)\n",
    "#ref_result = ExactLSsolver(A_matrix, b_vector).run()\n",
    "\n",
    "#HHL_solution = np.round(HHL_result['solution'], 5)\n",
    "#ref_solution = np.round(ref_result['solution'], 5)\n",
    "\n",
    "#print(f\"(ex3) HHL quantum Algorithm solution = {HHL_solution}\")\n",
    "#print(f\"(ex3) Classical Linear System solution = {ref_solution}\\n\")\n",
    "#print(f\"(ex3) Probability = {HHL_result['probability_result']}\")\n",
    "#fidelity(HHL_solution, ref_solution)"
   ]
  },
  {
   "cell_type": "markdown",
   "metadata": {},
   "source": [
    "Above is the code to solve the 8x8 non-diagonal matrix. Since my computer is too slow (it takes too long to for the quantum simulation), you may want to download this notebook and try it on your own machine."
   ]
  }
 ],
 "metadata": {
  "kernelspec": {
   "display_name": "Python 3",
   "language": "python",
   "name": "python3"
  },
  "language_info": {
   "codemirror_mode": {
    "name": "ipython",
    "version": 3
   },
   "file_extension": ".py",
   "mimetype": "text/x-python",
   "name": "python",
   "nbconvert_exporter": "python",
   "pygments_lexer": "ipython3",
   "version": "3.7.3"
  }
 },
 "nbformat": 4,
 "nbformat_minor": 2
}
